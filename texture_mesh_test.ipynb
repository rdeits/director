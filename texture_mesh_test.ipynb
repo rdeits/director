{
 "cells": [
  {
   "cell_type": "code",
   "execution_count": 1,
   "metadata": {},
   "outputs": [],
   "source": [
    "using Revise"
   ]
  },
  {
   "cell_type": "code",
   "execution_count": 18,
   "metadata": {},
   "outputs": [],
   "source": [
    "using GeometryTypes\n",
    "using MeshIO, FileIO\n",
    "using Images\n",
    "using MsgPack\n",
    "using ZMQ"
   ]
  },
  {
   "cell_type": "code",
   "execution_count": 27,
   "metadata": {},
   "outputs": [
    {
     "data": {
      "text/plain": [
       "HomogenousMesh(\n",
       "    faces: 692xGeometryTypes.Face{3,GeometryTypes.OffsetInteger{-1,UInt32}},     texturecoordinates: 354xGeometryTypes.TextureCoordinate{2,Float32},     vertices: 354xGeometryTypes.Point{3,Float32}, )\n"
      ]
     },
     "execution_count": 27,
     "metadata": {},
     "output_type": "execute_result"
    }
   ],
   "source": [
    "mesh = load(\"/home/rdeits/locomotion/drake/examples/valkyrie/urdf/model/meshes/torso/torso.obj\", GLUVMesh)"
   ]
  },
  {
   "cell_type": "code",
   "execution_count": 6,
   "metadata": {},
   "outputs": [],
   "source": [
    "texture_data = read(open(\"/home/rdeits/locomotion/drake/examples/valkyrie/urdf/model/meshes/torso/TrunkTexture.png\"));"
   ]
  },
  {
   "cell_type": "code",
   "execution_count": 30,
   "metadata": {},
   "outputs": [
    {
     "data": {
      "text/plain": [
       "2-element Array{Float32,1}:\n",
       " 0.725239\n",
       " 0.309196"
      ]
     },
     "execution_count": 30,
     "metadata": {},
     "output_type": "execute_result"
    }
   ],
   "source": [
    "collect(texturecoordinates(mesh)[1])"
   ]
  },
  {
   "cell_type": "code",
   "execution_count": 61,
   "metadata": {},
   "outputs": [
    {
     "data": {
      "text/plain": [
       "Dict{String,Any} with 3 entries:\n",
       "  \"delete\"       => Any[]\n",
       "  \"settransform\" => Any[]\n",
       "  \"setgeometry\"  => Dict{String,Any}[Dict{String,Any}(Pair{String,Any}(\"geometr…"
      ]
     },
     "execution_count": 61,
     "metadata": {},
     "output_type": "execute_result"
    }
   ],
   "source": [
    "cmd = Dict(\n",
    "    \"setgeometry\" => [\n",
    "        Dict(\n",
    "            \"path\" => [\"foo\"],\n",
    "            \"geometry\" => Dict(\n",
    "                \"type\" => \"mesh_data\",\n",
    "                \"vertices\" => [convert(Vector, x) for x in vertices(mesh)],\n",
    "                \"faces\" => [convert(Vector{Int}, GeometryTypes.raw.(f)) for f in faces(mesh)],\n",
    "                \"texture\" => Dict(\n",
    "                    \"coordinates\" => collect.(texturecoordinates(mesh)),\n",
    "                    \"png\" => texture_data\n",
    "                )\n",
    "                )\n",
    "            )\n",
    "        ],\n",
    "    \"settransform\" => [],\n",
    "    \"delete\" => []\n",
    ")"
   ]
  },
  {
   "cell_type": "code",
   "execution_count": 62,
   "metadata": {},
   "outputs": [],
   "source": [
    "context = Context()\n",
    "socket = Socket(context, ZMQ.REQ)\n",
    "ZMQ.connect(socket, \"tcp://localhost:5005\")"
   ]
  },
  {
   "cell_type": "code",
   "execution_count": 63,
   "metadata": {},
   "outputs": [],
   "source": [
    "ZMQ.send(socket, MsgPack.pack(cmd))"
   ]
  },
  {
   "cell_type": "code",
   "execution_count": 7,
   "metadata": {},
   "outputs": [
    {
     "name": "stderr",
     "output_type": "stream",
     "text": [
      "\u001b[1m\u001b[36mINFO: \u001b[39m\u001b[22m\u001b[36mPrecompiling module DrakeVisualizer.\n",
      "\u001b[39m"
     ]
    },
    {
     "data": {
      "text/plain": [
       "DrakeVisualizer"
      ]
     },
     "execution_count": 7,
     "metadata": {},
     "output_type": "execute_result"
    }
   ],
   "source": [
    "import DrakeVisualizer\n",
    "\n",
    "dv = DrakeVisualizer"
   ]
  },
  {
   "cell_type": "code",
   "execution_count": 8,
   "metadata": {},
   "outputs": [
    {
     "data": {
      "text/plain": [
       "HomogenousMesh(\n",
       "    faces: 3954xGeometryTypes.Face{3,GeometryTypes.OffsetInteger{-1,UInt32}},     vertices: 2248xGeometryTypes.Point{3,Float32},     normals: 2248xGeometryTypes.Normal{3,Float32}, )\n"
      ]
     },
     "execution_count": 8,
     "metadata": {},
     "output_type": "execute_result"
    }
   ],
   "source": [
    "mesh = load(\"/home/rdeits/.julia/v0.6/GeometryTypes/test/data/cat.obj\")"
   ]
  },
  {
   "cell_type": "code",
   "execution_count": 11,
   "metadata": {},
   "outputs": [
    {
     "name": "stdout",
     "output_type": "stream",
     "text": [
      "UInt8[0x7b, 0x22, 0x6d, 0x69, 0x73, 0x73, 0x69, 0x6e, 0x67, 0x5f, 0x70, 0x61, 0x74, 0x68, 0x73, 0x22, 0x3a, 0x20, 0x5b, 0x5d, 0x2c, 0x20, 0x22, 0x73, 0x74, 0x61, 0x74, 0x75, 0x73, 0x22, 0x3a, 0x20, 0x30, 0x2c, 0x20, 0x22, 0x64, 0x65, 0x6c, 0x65, 0x74, 0x65, 0x64, 0x5f, 0x70, 0x61, 0x74, 0x68, 0x73, 0x22, 0x3a, 0x20, 0x5b, 0x5d, 0x2c, 0x20, 0x22, 0x61, 0x64, 0x64, 0x65, 0x64, 0x5f, 0x67, 0x65, 0x6f, 0x6d, 0x65, 0x74, 0x72, 0x69, 0x65, 0x73, 0x22, 0x3a, 0x20, 0x5b, 0x5b, 0x22, 0x62, 0x6f, 0x64, 0x79, 0x31, 0x22, 0x5d, 0x5d, 0x2c, 0x20, 0x22, 0x73, 0x65, 0x74, 0x5f, 0x74, 0x72, 0x61, 0x6e, 0x73, 0x66, 0x6f, 0x72, 0x6d, 0x73, 0x22, 0x3a, 0x20, 0x5b, 0x5b, 0x22, 0x62, 0x6f, 0x64, 0x79, 0x31, 0x22, 0x5d, 0x5d, 0x7d]\n"
     ]
    },
    {
     "data": {
      "text/plain": [
       "Visualizer with path prefix Symbol[:body1] using ZMQ URL tcp://localhost:6891"
      ]
     },
     "execution_count": 11,
     "metadata": {},
     "output_type": "execute_result"
    }
   ],
   "source": [
    "dv.Visualizer(mesh)"
   ]
  },
  {
   "cell_type": "code",
   "execution_count": null,
   "metadata": {},
   "outputs": [],
   "source": []
  }
 ],
 "metadata": {
  "kernelspec": {
   "display_name": "Julia 0.6.2",
   "language": "julia",
   "name": "julia-0.6"
  },
  "language_info": {
   "file_extension": ".jl",
   "mimetype": "application/julia",
   "name": "julia",
   "version": "0.6.2"
  }
 },
 "nbformat": 4,
 "nbformat_minor": 2
}
